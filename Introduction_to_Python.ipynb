{
  "nbformat": 4,
  "nbformat_minor": 0,
  "metadata": {
    "colab": {
      "name": "Introduction_to_Python.ipynb",
      "provenance": [],
      "authorship_tag": "ABX9TyOPkdKWWgsfZEPYNhhzgTdz",
      "include_colab_link": true
    },
    "kernelspec": {
      "name": "python3",
      "display_name": "Python 3"
    }
  },
  "cells": [
    {
      "cell_type": "markdown",
      "metadata": {
        "id": "view-in-github",
        "colab_type": "text"
      },
      "source": [
        "<a href=\"https://colab.research.google.com/github/ivonacolakovic/TRIR/blob/master/Introduction_to_Python.ipynb\" target=\"_parent\"><img src=\"https://colab.research.google.com/assets/colab-badge.svg\" alt=\"Open In Colab\"/></a>"
      ]
    },
    {
      "cell_type": "markdown",
      "metadata": {
        "id": "1bsjjJdrbbhI",
        "colab_type": "text"
      },
      "source": [
        "## Osnove Python"
      ]
    },
    {
      "cell_type": "markdown",
      "metadata": {
        "id": "xIjNJVEzcCNo",
        "colab_type": "text"
      },
      "source": [
        "###Podnaslov"
      ]
    },
    {
      "cell_type": "code",
      "metadata": {
        "id": "khVQHF70cF_A",
        "colab_type": "code",
        "colab": {}
      },
      "source": [
        "smucisca = \"MB Pohorje\"\n",
        "st_gondol = 1\n",
        "operativno = True\n",
        "stopinje = 15.5"
      ],
      "execution_count": 0,
      "outputs": []
    },
    {
      "cell_type": "code",
      "metadata": {
        "id": "3W08Jc-ldC-I",
        "colab_type": "code",
        "colab": {}
      },
      "source": [
        "zaposleni = []\n",
        "list = [smucisca, st_gondol, operativno, stopinje]"
      ],
      "execution_count": 0,
      "outputs": []
    },
    {
      "cell_type": "code",
      "metadata": {
        "id": "SvSR_A0ndWxc",
        "colab_type": "code",
        "colab": {}
      },
      "source": [
        "print(list)"
      ],
      "execution_count": 0,
      "outputs": []
    },
    {
      "cell_type": "code",
      "metadata": {
        "id": "C0qytveadgBW",
        "colab_type": "code",
        "colab": {}
      },
      "source": [
        "#Test\n",
        "'''\n",
        "Test\n",
        "fsdaf\n",
        "'''"
      ],
      "execution_count": 0,
      "outputs": []
    },
    {
      "cell_type": "code",
      "metadata": {
        "id": "gAFXr0gMdyZp",
        "colab_type": "code",
        "colab": {}
      },
      "source": [
        "slovar = { \n",
        "            \"belveue\": True,\n",
        "            \"lisicka\": False,\n",
        "            \"Bolfenk\": True\n",
        "          }"
      ],
      "execution_count": 0,
      "outputs": []
    },
    {
      "cell_type": "code",
      "metadata": {
        "id": "LnH-bbLVeNML",
        "colab_type": "code",
        "colab": {}
      },
      "source": [
        "kombinacija = (slovar, list)\n",
        "print(kombinacija)"
      ],
      "execution_count": 0,
      "outputs": []
    },
    {
      "cell_type": "code",
      "metadata": {
        "id": "Zeq1tmsdenQ3",
        "colab_type": "code",
        "colab": {}
      },
      "source": [
        "print(kombinacija[0])\n",
        "print(list[0])\n",
        "print(list[-1])\n",
        "print(list[-2])\n",
        "print(list[1:3])\n",
        "print(list[-2:])\n",
        "print(list[:2])"
      ],
      "execution_count": 0,
      "outputs": []
    },
    {
      "cell_type": "code",
      "metadata": {
        "id": "cM8fqGiygMb0",
        "colab_type": "code",
        "colab": {}
      },
      "source": [
        "slovar[\"beveue\"] = False\n",
        "print(len(list))\n",
        "list.append(\"nksak\")\n",
        "list.insert(1, \"Posle prvog\")\n",
        "list.remove(\"Posle prvog\")\n",
        "list.remove(1)\n",
        "del list[1]\n",
        "del slovar[\"belveue\"]\n",
        "slovar.pop(\"lisicka\", None)"
      ],
      "execution_count": 0,
      "outputs": []
    },
    {
      "cell_type": "code",
      "metadata": {
        "id": "GyrLnfi0i9uU",
        "colab_type": "code",
        "colab": {}
      },
      "source": [
        "for item in range(0, 11, 2):\n",
        "  print(item)"
      ],
      "execution_count": 0,
      "outputs": []
    },
    {
      "cell_type": "code",
      "metadata": {
        "id": "yQQup-txjWeW",
        "colab_type": "code",
        "colab": {}
      },
      "source": [
        "for i in list:\n",
        "  print(i)"
      ],
      "execution_count": 0,
      "outputs": []
    },
    {
      "cell_type": "code",
      "metadata": {
        "id": "nyLPaQbtjgfM",
        "colab_type": "code",
        "colab": {}
      },
      "source": [
        "'''\n",
        "while True:\n",
        "  print(\"a\")\n",
        "  '''"
      ],
      "execution_count": 0,
      "outputs": []
    },
    {
      "cell_type": "code",
      "metadata": {
        "id": "jzyPtjlgjtXW",
        "colab_type": "code",
        "colab": {}
      },
      "source": [
        "def sestej(a, b):\n",
        "  return a + b\n",
        "\n",
        "print(sestej(2, 3))\n",
        "print(sestej(\"2\", \"3\"))"
      ],
      "execution_count": 0,
      "outputs": []
    },
    {
      "cell_type": "code",
      "metadata": {
        "id": "rUJnQ-tWkv46",
        "colab_type": "code",
        "colab": {}
      },
      "source": [
        "class Oseba():\n",
        "  def __init__(self, ime, priimek, starost):\n",
        "    self._ime = ime\n",
        "    self._priimek = priimek\n",
        "    self._starost = starost\n",
        "\n",
        "class Smucar(Oseba):\n",
        "  najboljsi = None\n",
        "  def __init__(self, ime, priimek, starost):\n",
        "    Oseba.__init__(self, ime, priimek, starost)\n",
        "    self._dosezki = []\n",
        "\n",
        "  def dodajDosezek(dosezek):\n",
        "    self._dosezki.append(dosezek)\n",
        "    if Smucar.najbojsi or len(self._dosezki) >= len(Smucar.najboljsi._dosezki):\n",
        "      Smucar.najboljsi = self\n",
        "\n",
        "smucar1 = new Smucar(\"1\", \"1\", 25)\n",
        "smucar2 = new Smucar(\"2\", \"2\", 25)\n",
        "smucar3 = new Smucar(\"3\", \"3\", 25)\n",
        "\n",
        "smucar1.dodajDosezek(\"zlata\")\n",
        "smucar1.dodajDosezek(\"srebrna\")\n",
        "\n",
        "smucar2.dodajDosezek(\"zlata\")\n",
        "\n",
        "print(\"Najboljsi smucar je: \", Smucar.najboljsi._ime, Smucar.najboljsi._priimek)\n",
        "\n"
      ],
      "execution_count": 0,
      "outputs": []
    }
  ]
}