{
  "nbformat": 4,
  "nbformat_minor": 0,
  "metadata": {
    "colab": {
      "name": "vaja1.ipynb",
      "provenance": [],
      "authorship_tag": "ABX9TyMxSDEwGLstYPnyT+HaocOQ",
      "include_colab_link": true
    },
    "kernelspec": {
      "name": "python3",
      "display_name": "Python 3"
    }
  },
  "cells": [
    {
      "cell_type": "markdown",
      "metadata": {
        "id": "view-in-github",
        "colab_type": "text"
      },
      "source": [
        "<a href=\"https://colab.research.google.com/github/ivonacolakovic/TRIR/blob/master/vaja1.ipynb\" target=\"_parent\"><img src=\"https://colab.research.google.com/assets/colab-badge.svg\" alt=\"Open In Colab\"/></a>"
      ]
    },
    {
      "cell_type": "code",
      "metadata": {
        "id": "IneBAJjFyJuo",
        "colab_type": "code",
        "colab": {}
      },
      "source": [
        "class Serija():\n",
        "  def __init__(self, naziv, vrednosti):\n",
        "    self._naziv = naziv\n",
        "    self._vrednosti = vrednosti\n",
        "\n",
        "  def prestej(self):\n",
        "    return len(self._vrednosti)\n",
        "\n",
        "  def opisi(self):\n",
        "    return sum(self._vrednosti) / len(self._vrednosti)\n",
        "\n",
        "  def glava(self, x=5):\n",
        "    return self._vrednosti[:x]\n",
        "\n",
        "  def rep(self, x=5):\n",
        "    return self._vrednosti[-5:]\n",
        "\n",
        "  def dodaj(self, vrednost, indeks=None):\n",
        "    self._vrednosti.insert(indeks if not indeks == None else len(self._vrednosti), vrednost)\n",
        "\n",
        "  def zbrisi(self, indeks):\n",
        "    del self._vrednosti[indeks]"
      ],
      "execution_count": 0,
      "outputs": []
    },
    {
      "cell_type": "code",
      "metadata": {
        "id": "N8EKPDm2zIwG",
        "colab_type": "code",
        "colab": {}
      },
      "source": [
        "class Razpredelnica():\n",
        "  def __init__(self, stolpci=[]):\n",
        "    self._stolpci = stolpci\n",
        "\n",
        "  def prestej(self):\n",
        "    return [self._stolpci[0].prestej(), len(self._stolpci)]\n",
        "\n",
        "  def opisi(self):\n",
        "    povprecja = {}\n",
        "    for item in self._stolpci:\n",
        "      povprecja[item._naziv] = item.opisi()\n",
        "\n",
        "    return povprecja\n",
        "\n",
        "  def glava(self, x=5):\n",
        "    vrstice = []\n",
        "    for item in self._stolpci:\n",
        "      list = []\n",
        "      list.append(item[:x])\n",
        "      vrstice.append(list)\n",
        "\n",
        "    return vrstice\n",
        "    \n",
        "  def rep(self, x=5):\n",
        "    vrstice = []\n",
        "    for item in self._stolpci:\n",
        "      list = []\n",
        "      list.append(item[-x:])\n",
        "      vrstice.append(list)\n",
        "\n",
        "    return vrstice\n",
        "\n",
        "  def dodaj_vrstico(self, vrstica, indeks=None):\n",
        "    counter = 0\n",
        "    for item in self._stolpci:\n",
        "      item.dodaj(vrstica[counter], indeks)\n",
        "      counter += 1\n",
        "\n",
        "  def zbrisi_vrstico(self, indeks):\n",
        "    for item in self._stolpci:\n",
        "      item.zbrisi(indeks)\n",
        "\n",
        "  def dodaj_stolpec(self, stolpec, indeks=None):\n",
        "    self._stolpci.append(stolpec)\n",
        "\n",
        "  def zbrisi_stolpec(self, indeks):\n",
        "    del self._stolpci[indeks]"
      ],
      "execution_count": 0,
      "outputs": []
    },
    {
      "cell_type": "code",
      "metadata": {
        "colab_type": "code",
        "id": "BLWgyAAO7wCP",
        "colab": {}
      },
      "source": [
        "s1 = Serija('visina', [1.5, 1.7, 1.4, 1.3, 1.9])\n",
        "s2 = Serija('sirina', [5, 7, 4, 3, 9, 6])\n",
        "s3 = Serija('starost', [15, 11, 10, 12])\n",
        "\n",
        "print(s1.prestej()) # 5\n",
        "print(s2.prestej()) # 6\n",
        "print(s3.prestej()) # 4\n",
        "\n",
        "s2.zbrisi(2)\n",
        "s3.dodaj(13, indeks=1)\n",
        "\n",
        "print(s1.prestej()) # 5\n",
        "print(s2.prestej()) # 5\n",
        "print(s3.prestej()) # 5\n",
        "\n",
        "raz = Razpredelnica([s1, s2, s3])\n",
        "print(raz.prestej()) # [5, 3]\n",
        "\n",
        "raz.dodaj_vrstico([1.6, 8, 14])\n",
        "raz.dodaj_stolpec(Serija('teza', [34, 21, 56, 43, 51, 28]))\n",
        "\n",
        "print(raz.prestej()) # [6, 4]\n",
        "print(raz.opisi()) # {'visina': 1.5667, 'sirina': 6.3333, 'starost': 12.5, 'teza': 38.8333}    zaokroževanja niso nujna točno taka kot so tukaj\n",
        "\n",
        "raz.zbrisi_stolpec(0)\n",
        "raz.zbrisi_vrstico(1)\n",
        "print(raz.prestej()) # [5, 3]"
      ],
      "execution_count": 0,
      "outputs": []
    }
  ]
}